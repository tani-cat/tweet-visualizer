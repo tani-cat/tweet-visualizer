{
 "cells": [
  {
   "cell_type": "code",
   "execution_count": null,
   "metadata": {},
   "outputs": [],
   "source": [
    "import datetime\n",
    "import itertools\n",
    "import json\n",
    "from pathlib import Path\n",
    "from typing import Dict, List, Optional, Union\n",
    "\n",
    "from matplotlib import pyplot as plt\n",
    "import numpy as np\n",
    "from tqdm import tqdm"
   ]
  },
  {
   "cell_type": "code",
   "execution_count": null,
   "metadata": {},
   "outputs": [],
   "source": [
    "%matplotlib inline"
   ]
  },
  {
   "cell_type": "code",
   "execution_count": null,
   "metadata": {},
   "outputs": [],
   "source": [
    "# 定数\n",
    "ENCODE = 'utf-8'\n",
    "THRESHOLD_DT_DEFAULT = datetime.datetime(1901, 1, 1)\n",
    "Y_LABELS = ['Mon', 'Tue', 'Wed', 'Thu', 'Fri', 'Sat', 'Sun']"
   ]
  },
  {
   "cell_type": "code",
   "execution_count": null,
   "metadata": {},
   "outputs": [],
   "source": [
    "def load_js_file(path: Path) -> Union[Dict, List]:\n",
    "    with path.open('r', encoding=ENCODE) as fr:\n",
    "        raw_data = fr.readlines()\n",
    "\n",
    "    if raw_data[0][-2] in ('[', '{'):\n",
    "        raw_data[0] = raw_data[0][-2]\n",
    "    else:\n",
    "        raise NotImplementedError('想定外の形式です。jsファイルの形式を確認してください')\n",
    "    \n",
    "    raw_data = ''.join(raw_data)\n",
    "    py_data = json.loads(raw_data)\n",
    "    # 整形する\n",
    "    py_data = [tweet['tweet'] for tweet in py_data]\n",
    "    return py_data\n"
   ]
  },
  {
   "cell_type": "code",
   "execution_count": null,
   "metadata": {},
   "outputs": [],
   "source": [
    "def aggregate_tweet(\n",
    "    tweet_list: List[Dict], /, threshold_dt: Optional[datetime.datetime] = None,\n",
    "    interval_minutes: int = 60,\n",
    ") -> List[List[int]]:\n",
    "    \"\"\"時刻単位ごとのツイート数をカウントする\n",
    "\n",
    "    週は月曜はじまり, 時刻単位は引数で指定\n",
    "\n",
    "    Args:\n",
    "        tweet_list: ツイート情報の辞書リスト\n",
    "        interval_minutes: 集計する時間単位[分]\n",
    "    \n",
    "    Returns:\n",
    "        List[List[int]]: data[x][y]: x曜日y時間帯のツイート数\n",
    "    \"\"\"\n",
    "    if threshold_dt is None:\n",
    "        threshold_dt = THRESHOLD_DT_DEFAULT\n",
    "    dt_now = datetime.datetime.now()\n",
    "    if (24 * 60) % interval_minutes:\n",
    "        raise ValueError('interval_minutes には, 1440を割り切ることのできる値を指定してください')\n",
    "    if not (0 < interval_minutes <= 60) or not isinstance(interval_minutes, int):\n",
    "        raise ValueError('interval_minutes には1から60までの整数を指定してください')\n",
    "    count_l = [[0 for _ in range(24 * 60 // interval_minutes)] for _ in range(7)]\n",
    "    for tweet in tqdm(tweet_list):\n",
    "        # \"created_at\" : \"Wed May 01 10:52:48 +0000 2019\"\n",
    "        created_at_str = tweet['created_at']\n",
    "        created_at_dt = datetime.datetime.strptime(\n",
    "            created_at_str,\n",
    "            '%a %b %d %H:%M:%S +0000 %Y'\n",
    "        )\n",
    "        # UTCになっているので, +9時間\n",
    "        created_at_dt += datetime.timedelta(hours=9)\n",
    "        if created_at_dt < threshold_dt:\n",
    "            # 指定日時より前のツイートは集計しない\n",
    "            continue\n",
    "        # 曜日\n",
    "        weekday_val = created_at_dt.weekday()\n",
    "        # 時間帯\n",
    "        hour_val = (created_at_dt.hour * 60 + created_at_dt.minute) // interval_minutes\n",
    "        count_l[weekday_val][hour_val] += 1\n",
    "    \n",
    "    return count_l\n"
   ]
  },
  {
   "cell_type": "code",
   "execution_count": null,
   "metadata": {},
   "outputs": [],
   "source": [
    "def generate_graph(tweet_count_l: List[List[int]]) -> None:\n",
    "    \"\"\"グラフを描画する\n",
    "    \n",
    "    Args:\n",
    "        tweet_count_l: aggregate_tweet 関数の返り値\n",
    "    \n",
    "    Returns:\n",
    "        Image: 画像データ\n",
    "    \"\"\"\n",
    "    assert isinstance(tweet_count_l, list) and isinstance(tweet_count_l[0], list)\n",
    "    data_count = (len(tweet_count_l), len(tweet_count_l[0]))\n",
    "\n",
    "    fig, ax = plt.subplots()\n",
    "    heatmap = ax.pcolor(tweet_count_l, cmap='Reds')\n",
    "\n",
    "    ax.tick_params(length=0)\n",
    "    # xlabel: 時間帯\n",
    "    ax.set_xlabel('Hour')\n",
    "    ax.xaxis.tick_top()\n",
    "    ax.xaxis.set_label_position('top')\n",
    "    ax.set_xticks(np.arange(data_count[1]) + 1, minor=False)\n",
    "    x_deg = data_count[1] // 24\n",
    "    x_labels = [x // x_deg if x % x_deg == 0 else '' for x in range(data_count[1])]\n",
    "    ax.set_xticklabels(x_labels, minor=False)\n",
    "    # ylabel: 曜日\n",
    "    ax.set_ylabel('Weekday')\n",
    "    ax.invert_yaxis()\n",
    "    ax.set_yticks(np.arange(data_count[0]) + 0.5, minor=False)\n",
    "    ax.set_yticklabels(Y_LABELS, minor=False)\n",
    "    # 完成\n",
    "    plt.show()\n",
    "\n",
    "    return heatmap"
   ]
  },
  {
   "attachments": {},
   "cell_type": "markdown",
   "metadata": {},
   "source": [
    "target_path (`Path`): `Path()` の引数に、解析する `tweets.js` の絶対パスを指定する\n",
    "\n",
    "threshold_dt (`datetime.datetime`): 指定した日時以降のツイートのみを集計する\n",
    "\n",
    "interval_minutes (`int`): 集計するツイート時刻の間隔(単位: 分)"
   ]
  },
  {
   "cell_type": "code",
   "execution_count": null,
   "metadata": {},
   "outputs": [],
   "source": [
    "# main\n",
    "target_path = Path('/path/to/tweets.js')\n",
    "threshold_dt = datetime.datetime(1901, 1, 1)\n",
    "interval_minutes = 20\n",
    "\n",
    "\n",
    "def main():\n",
    "    tweet_data = load_js_file(target_path)\n",
    "    aggred_data = aggregate_tweet(tweet_data, threshold_dt, interval_minutes)\n",
    "    generate_graph(aggred_data)\n",
    "    return\n",
    "\n",
    "main()"
   ]
  },
  {
   "cell_type": "code",
   "execution_count": null,
   "metadata": {},
   "outputs": [],
   "source": []
  }
 ],
 "metadata": {
  "kernelspec": {
   "display_name": ".venv",
   "language": "python",
   "name": "python3"
  },
  "language_info": {
   "codemirror_mode": {
    "name": "ipython",
    "version": 3
   },
   "file_extension": ".py",
   "mimetype": "text/x-python",
   "name": "python",
   "nbconvert_exporter": "python",
   "pygments_lexer": "ipython3",
   "version": "3.10.5"
  },
  "orig_nbformat": 4,
  "vscode": {
   "interpreter": {
    "hash": "7362093cb691ed7c501581936861086fe9fe23ec03be8b6d6f73228667f15b23"
   }
  }
 },
 "nbformat": 4,
 "nbformat_minor": 2
}
